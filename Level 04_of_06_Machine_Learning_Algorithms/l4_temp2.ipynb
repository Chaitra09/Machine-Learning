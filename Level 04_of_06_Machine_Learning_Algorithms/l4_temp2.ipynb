{
 "cells": [
  {
   "cell_type": "code",
   "execution_count": 2,
   "metadata": {},
   "outputs": [],
   "source": [
    "# Change Directory to location ,where we have csv file\n",
    "import os\n",
    "os.chdir(\"C:\\\\Users\\\\ramreddymyla\\\\Google Drive\\\\01 DS ML DL NLP and AI With Python Lab Copy\\\\02 Lab Data\\\\Python\")"
   ]
  },
  {
   "cell_type": "code",
   "execution_count": 3,
   "metadata": {},
   "outputs": [],
   "source": [
    "import pandas as pd\n",
    "df=pd.read_csv(\"iris.csv\")"
   ]
  },
  {
   "cell_type": "code",
   "execution_count": 4,
   "metadata": {},
   "outputs": [],
   "source": [
    "X=df.drop(\"species\",axis=1).values"
   ]
  },
  {
   "cell_type": "code",
   "execution_count": 5,
   "metadata": {},
   "outputs": [],
   "source": [
    "y=df['species'].replace(['setosa', 'versicolor', 'virginica'],[0,1,2]).values"
   ]
  },
  {
   "cell_type": "code",
   "execution_count": 6,
   "metadata": {},
   "outputs": [
    {
     "data": {
      "text/plain": [
       "KNeighborsClassifier(algorithm='auto', leaf_size=30, metric='minkowski',\n",
       "                     metric_params=None, n_jobs=None, n_neighbors=8, p=2,\n",
       "                     weights='uniform')"
      ]
     },
     "execution_count": 6,
     "metadata": {},
     "output_type": "execute_result"
    }
   ],
   "source": [
    "from sklearn.neighbors import KNeighborsClassifier\n",
    "model = KNeighborsClassifier(n_neighbors=8)\n",
    "model.fit(X,y)\n"
   ]
  },
  {
   "cell_type": "code",
   "execution_count": 7,
   "metadata": {},
   "outputs": [],
   "source": [
    "import pickle"
   ]
  },
  {
   "cell_type": "code",
   "execution_count": 8,
   "metadata": {},
   "outputs": [
    {
     "data": {
      "text/plain": [
       "\u001b[1;31mType:\u001b[0m        module\n",
       "\u001b[1;31mString form:\u001b[0m <module 'pickle' from 'C:\\\\Users\\\\ramreddymyla\\\\Anaconda3\\\\envs\\\\dl\\\\lib\\\\pickle.py'>\n",
       "\u001b[1;31mFile:\u001b[0m        c:\\users\\ramreddymyla\\anaconda3\\envs\\dl\\lib\\pickle.py\n",
       "\u001b[1;31mDocstring:\u001b[0m  \n",
       "Create portable serialized representations of Python objects.\n",
       "\n",
       "See module copyreg for a mechanism for registering custom picklers.\n",
       "See module pickletools source for extensive comments.\n",
       "\n",
       "Classes:\n",
       "\n",
       "    Pickler\n",
       "    Unpickler\n",
       "\n",
       "Functions:\n",
       "\n",
       "    dump(object, file)\n",
       "    dumps(object) -> string\n",
       "    load(file) -> object\n",
       "    loads(string) -> object\n",
       "\n",
       "Misc variables:\n",
       "\n",
       "    __version__\n",
       "    format_version\n",
       "    compatible_formats\n"
      ]
     },
     "metadata": {},
     "output_type": "display_data"
    }
   ],
   "source": [
    "pickle?"
   ]
  },
  {
   "cell_type": "code",
   "execution_count": 11,
   "metadata": {},
   "outputs": [],
   "source": [
    "pickle.dump(model,open(\"file_20200226.pkl\",\"bw\"))\n",
    "\n",
    "pickle.load(open(\"file_20200226.pkl\",\"br\"))"
   ]
  },
  {
   "cell_type": "code",
   "execution_count": null,
   "metadata": {},
   "outputs": [],
   "source": []
  },
  {
   "cell_type": "code",
   "execution_count": null,
   "metadata": {},
   "outputs": [],
   "source": []
  }
 ],
 "metadata": {
  "kernelspec": {
   "display_name": "Python 3",
   "language": "python",
   "name": "python3"
  },
  "language_info": {
   "codemirror_mode": {
    "name": "ipython",
    "version": 3
   },
   "file_extension": ".py",
   "mimetype": "text/x-python",
   "name": "python",
   "nbconvert_exporter": "python",
   "pygments_lexer": "ipython3",
   "version": "3.6.9"
  }
 },
 "nbformat": 4,
 "nbformat_minor": 4
}
