{
 "cells": [
  {
   "cell_type": "markdown",
   "metadata": {},
   "source": [
    "# `KNN Stats or Maths`\n",
    "-----------------------"
   ]
  },
  {
   "cell_type": "markdown",
   "metadata": {},
   "source": [
    "## Minkowski distance\n",
    "- The **Minkowski distance** is a metric in a normed vector space which can be considered as a generalization of both the **Euclidean distance(p==2)** and the **Manhattan distance(p==1)**."
   ]
  },
  {
   "cell_type": "markdown",
   "metadata": {},
   "source": [
    "![min](https://github.com/rritec/datahexa/blob/dev/images/ml/min1.jpg?raw=true)"
   ]
  },
  {
   "cell_type": "markdown",
   "metadata": {},
   "source": [
    "- $D(X,Y) = (\\sum_{i=1}^n |UnknownSample_{i}-KnownSample_{i}|^p)^{1/p}$"
   ]
  },
  {
   "cell_type": "markdown",
   "metadata": {},
   "source": [
    "- Minkowski distance is typically used with p being 1 or 2, which correspond to the `Manhattan distance` and the `Euclidean distance` respectively"
   ]
  },
  {
   "cell_type": "markdown",
   "metadata": {},
   "source": [
    "## Find unknown sample quality based on known samples"
   ]
  },
  {
   "cell_type": "markdown",
   "metadata": {},
   "source": [
    "| X1  | X2 | y |\n",
    "| ------------- | ------------- |------|\n",
    "| 7 | 7  | Bad |\n",
    "| 7 | 4  | Bad |\n",
    "| 3 | 4  | Good |\n",
    "| 1 | 4  | Good |\n",
    "| 3 | 7  | ** ? ** |  "
   ]
  },
  {
   "cell_type": "markdown",
   "metadata": {},
   "source": [
    "- For above example calculate **Euclidean distance**  and if  **K = 3** then find the label of unknown point ?\n",
    "\n",
    "    <input type=\"radio\" disabled> Bad\n",
    "    \n",
    "    <input type=\"radio\" disabled checked> Good\n"
   ]
  },
  {
   "cell_type": "markdown",
   "metadata": {
    "jupyter": {
     "outputs_hidden": true
    }
   },
   "source": [
    "## Find unknown flower name based on known flower names using `MS excel`\n",
    "* Take iris data set and explain from scratch"
   ]
  },
  {
   "cell_type": "markdown",
   "metadata": {},
   "source": [
    "## Importance of K/n_neighbors\n",
    "\n",
    "* if n_neighbors ==1 then `unknown sample` will be treated as `red triangle`\n",
    "* if n_neighbors ==2 then `unknown sample` will be treated as `red triangle`\n",
    "* if n_neighbors ==5 then `unknown sample` will be treated as `blue square`\n",
    "![min](https://github.com/rritec/datahexa/blob/dev/images/ml/440px-KnnClassification.svg.png?raw=true)"
   ]
  },
  {
   "cell_type": "markdown",
   "metadata": {},
   "source": [
    "## Hamming distance\n",
    "- In information theory, the Hamming distance between two strings of equal length is the number of positions at which the corresponding symbols are different\n",
    "- [Refer more from wiki](https://en.wikipedia.org/wiki/Hamming_distance)\n",
    "- Example:\n",
    "    \n",
    "    ![hamming.png](https://github.com/rritec/datahexa/blob/dev/images/ml/ham.png?raw=true)"
   ]
  },
  {
   "cell_type": "code",
   "execution_count": null,
   "metadata": {},
   "outputs": [],
   "source": []
  }
 ],
 "metadata": {
  "kernelspec": {
   "display_name": "Python 3",
   "language": "python",
   "name": "python3"
  },
  "language_info": {
   "codemirror_mode": {
    "name": "ipython",
    "version": 3
   },
   "file_extension": ".py",
   "mimetype": "text/x-python",
   "name": "python",
   "nbconvert_exporter": "python",
   "pygments_lexer": "ipython3",
   "version": "3.6.9"
  },
  "toc-autonumbering": true
 },
 "nbformat": 4,
 "nbformat_minor": 4
}
